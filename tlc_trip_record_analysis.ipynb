{
  "cells": [
    {
      "cell_type": "markdown",
      "metadata": {
        "id": "duMRT5nX0USK"
      },
      "source": [
        "# Assignment: Spark SQL and Data Frames\n",
        "\n",
        "Dataset: https://www1.nyc.gov/site/tlc/about/tlc-trip-record-data.page (February 2021)\n",
        "\n",
        "Tech Stack:\n",
        "\n",
        "1.   PySpark\n",
        "2.   Google BigQuery\n",
        "\n"
      ]
    },
    {
      "cell_type": "code",
      "execution_count": null,
      "metadata": {
        "colab": {
          "base_uri": "https://localhost:8080/"
        },
        "id": "i4OMbN6oLYDl",
        "outputId": "8928f142-3a58-40ff-afce-30e5e8268e75"
      },
      "outputs": [
        {
          "name": "stdout",
          "output_type": "stream",
          "text": [
            "Looking in indexes: https://pypi.org/simple, https://us-python.pkg.dev/colab-wheels/public/simple/\n",
            "Requirement already satisfied: pyspark==3.0.3 in /usr/local/lib/python3.8/dist-packages (3.0.3)\n",
            "Requirement already satisfied: py4j==0.10.9 in /usr/local/lib/python3.8/dist-packages (from pyspark==3.0.3) (0.10.9)\n"
          ]
        }
      ],
      "source": [
        "pip install pyspark==3.0.3"
      ]
    },
    {
      "cell_type": "code",
      "execution_count": null,
      "metadata": {
        "id": "9CPTXVwFKJx2"
      },
      "outputs": [],
      "source": [
        "!apt-get install openjdk-8-jdk-headless -qq > /dev/null\n",
        "!wget -q https://archive.apache.org/dist/spark/spark-3.0.0/spark-3.0.0-bin-hadoop3.2.tgz\n",
        "!tar xf spark-3.0.0-bin-hadoop3.2.tgz"
      ]
    },
    {
      "cell_type": "code",
      "execution_count": null,
      "metadata": {
        "id": "6St1UJUcKoiA"
      },
      "outputs": [],
      "source": [
        "import os\n",
        "os.environ[\"JAVA_HOME\"] = \"/usr/lib/jvm/java-8-openjdk-amd64\"\n",
        "os.environ[\"SPARK_HOME\"] = \"/content/spark-3.0.0-bin-hadoop3.2\""
      ]
    },
    {
      "cell_type": "code",
      "execution_count": null,
      "metadata": {
        "colab": {
          "base_uri": "https://localhost:8080/"
        },
        "id": "vOG6BIxS3_zs",
        "outputId": "47683b0f-a053-490b-9edc-13b739318c68"
      },
      "outputs": [
        {
          "name": "stdout",
          "output_type": "stream",
          "text": [
            "Looking in indexes: https://pypi.org/simple, https://us-python.pkg.dev/colab-wheels/public/simple/\n",
            "Requirement already satisfied: findspark in /usr/local/lib/python3.8/dist-packages (2.0.1)\n"
          ]
        }
      ],
      "source": [
        "pip install findspark"
      ]
    },
    {
      "cell_type": "code",
      "execution_count": null,
      "metadata": {
        "colab": {
          "base_uri": "https://localhost:8080/",
          "height": 35
        },
        "id": "aJeywlyoKrbo",
        "outputId": "1125939f-dcdb-4a4d-c0f7-be9cb43b3b86"
      },
      "outputs": [
        {
          "data": {
            "application/vnd.google.colaboratory.intrinsic+json": {
              "type": "string"
            },
            "text/plain": [
              "'/content/spark-3.0.0-bin-hadoop3.2'"
            ]
          },
          "execution_count": 5,
          "metadata": {},
          "output_type": "execute_result"
        }
      ],
      "source": [
        "import findspark\n",
        "findspark.init()\n",
        "findspark.find()"
      ]
    },
    {
      "cell_type": "code",
      "execution_count": null,
      "metadata": {
        "id": "nAGZfrjcM3IC"
      },
      "outputs": [],
      "source": [
        "from pyspark.sql import SparkSession\n",
        "spark = SparkSession.builder.master(\"local\").appName(\"archiecm\").config('spark.ui.port', '4050').getOrCreate()"
      ]
    },
    {
      "cell_type": "code",
      "execution_count": null,
      "metadata": {
        "colab": {
          "base_uri": "https://localhost:8080/",
          "height": 219
        },
        "id": "IIVHzS1_K2cH",
        "outputId": "350ba362-32f7-4348-cae2-2ab64f17faa6"
      },
      "outputs": [
        {
          "data": {
            "text/html": [
              "\n",
              "            <div>\n",
              "                <p><b>SparkSession - in-memory</b></p>\n",
              "                \n",
              "        <div>\n",
              "            <p><b>SparkContext</b></p>\n",
              "\n",
              "            <p><a href=\"http://6e18a8ef5d0b:4050\">Spark UI</a></p>\n",
              "\n",
              "            <dl>\n",
              "              <dt>Version</dt>\n",
              "                <dd><code>v3.0.0</code></dd>\n",
              "              <dt>Master</dt>\n",
              "                <dd><code>local</code></dd>\n",
              "              <dt>AppName</dt>\n",
              "                <dd><code>pc6_devanis</code></dd>\n",
              "            </dl>\n",
              "        </div>\n",
              "        \n",
              "            </div>\n",
              "        "
            ],
            "text/plain": [
              "<pyspark.sql.session.SparkSession at 0x7feca5119d60>"
            ]
          },
          "execution_count": 7,
          "metadata": {},
          "output_type": "execute_result"
        }
      ],
      "source": [
        "spark"
      ]
    },
    {
      "cell_type": "code",
      "execution_count": null,
      "metadata": {
        "colab": {
          "base_uri": "https://localhost:8080/"
        },
        "id": "5AXe5v0tJjR1",
        "outputId": "d09a923b-a133-4073-976c-847f3c30d6bc"
      },
      "outputs": [
        {
          "name": "stdout",
          "output_type": "stream",
          "text": [
            "root\n",
            " |-- VendorID: long (nullable = true)\n",
            " |-- tpep_pickup_datetime: timestamp (nullable = true)\n",
            " |-- tpep_dropoff_datetime: timestamp (nullable = true)\n",
            " |-- passenger_count: double (nullable = true)\n",
            " |-- trip_distance: double (nullable = true)\n",
            " |-- RatecodeID: double (nullable = true)\n",
            " |-- store_and_fwd_flag: string (nullable = true)\n",
            " |-- PULocationID: long (nullable = true)\n",
            " |-- DOLocationID: long (nullable = true)\n",
            " |-- payment_type: long (nullable = true)\n",
            " |-- fare_amount: double (nullable = true)\n",
            " |-- extra: double (nullable = true)\n",
            " |-- mta_tax: double (nullable = true)\n",
            " |-- tip_amount: double (nullable = true)\n",
            " |-- tolls_amount: double (nullable = true)\n",
            " |-- improvement_surcharge: double (nullable = true)\n",
            " |-- total_amount: double (nullable = true)\n",
            " |-- congestion_surcharge: double (nullable = true)\n",
            " |-- airport_fee: double (nullable = true)\n",
            "\n"
          ]
        }
      ],
      "source": [
        "df = spark.read.parquet(\"/content/drive/MyDrive/DE#8/PC6/yellow_tripdata_2021-02.parquet\", header=True, inferSchema=True)\n",
        "df.printSchema()"
      ]
    },
    {
      "cell_type": "code",
      "execution_count": null,
      "metadata": {
        "colab": {
          "base_uri": "https://localhost:8080/"
        },
        "id": "MPvrn-DJ8Bcr",
        "outputId": "fd16b54e-3ad6-44b3-f2e3-9900e39e3ddf"
      },
      "outputs": [
        {
          "name": "stdout",
          "output_type": "stream",
          "text": [
            "Dimensions of Data: (1371709, 19)\n",
            "Rows of Data: 1371709\n",
            "Columns of Data: 19\n"
          ]
        }
      ],
      "source": [
        "rows = df.count()\n",
        "cols = len(df.columns)\n",
        "\n",
        "print(f'Dimensions of Data: {(rows,cols)}')\n",
        "print(f'Rows of Data: {rows}')\n",
        "print(f'Columns of Data: {cols}')"
      ]
    },
    {
      "cell_type": "code",
      "execution_count": null,
      "metadata": {
        "colab": {
          "base_uri": "https://localhost:8080/"
        },
        "id": "_AIkQIYX4gRh",
        "outputId": "aa89f52b-359d-4e21-d8f9-50b2227b984f"
      },
      "outputs": [
        {
          "name": "stdout",
          "output_type": "stream",
          "text": [
            "+--------+--------------------+---------------------+---------------+-------------+----------+------------------+------------+------------+------------+-----------+-----+-------+----------+------------+---------------------+------------+--------------------+-----------+\n",
            "|VendorID|tpep_pickup_datetime|tpep_dropoff_datetime|passenger_count|trip_distance|RatecodeID|store_and_fwd_flag|PULocationID|DOLocationID|payment_type|fare_amount|extra|mta_tax|tip_amount|tolls_amount|improvement_surcharge|total_amount|congestion_surcharge|airport_fee|\n",
            "+--------+--------------------+---------------------+---------------+-------------+----------+------------------+------------+------------+------------+-----------+-----+-------+----------+------------+---------------------+------------+--------------------+-----------+\n",
            "|       1| 2021-02-01 00:40:47|  2021-02-01 00:48:28|            1.0|          2.3|       1.0|                 N|         141|         226|           2|        8.5|  3.0|    0.5|       0.0|         0.0|                  0.3|        12.3|                 2.5|       null|\n",
            "|       1| 2021-02-01 00:07:44|  2021-02-01 00:20:31|            1.0|          1.6|       1.0|                 N|          43|         263|           2|        9.5|  3.0|    0.5|       0.0|         0.0|                  0.3|        13.3|                 0.0|       null|\n",
            "|       1| 2021-02-01 00:59:36|  2021-02-01 01:24:13|            1.0|          5.3|       1.0|                 N|         114|         263|           2|       19.0|  3.0|    0.5|       0.0|         0.0|                  0.3|        22.8|                 2.5|       null|\n",
            "|       2| 2021-02-01 00:03:26|  2021-02-01 00:16:32|            1.0|         2.79|       1.0|                 N|         236|         229|           1|       11.0|  0.5|    0.5|      2.96|         0.0|                  0.3|       17.76|                 2.5|       null|\n",
            "|       2| 2021-02-01 00:20:20|  2021-02-01 00:24:03|            2.0|         0.64|       1.0|                 N|         229|         140|           1|        4.5|  0.5|    0.5|      1.66|         0.0|                  0.3|        9.96|                 2.5|       null|\n",
            "+--------+--------------------+---------------------+---------------+-------------+----------+------------------+------------+------------+------------+-----------+-----+-------+----------+------------+---------------------+------------+--------------------+-----------+\n",
            "only showing top 5 rows\n",
            "\n"
          ]
        }
      ],
      "source": [
        "df.show(5)"
      ]
    },
    {
      "cell_type": "markdown",
      "metadata": {
        "id": "63sBIw570wa0"
      },
      "source": [
        "#### How many Taxi Trips were there on February 15?"
      ]
    },
    {
      "cell_type": "code",
      "execution_count": null,
      "metadata": {
        "id": "WyZYyuNE65RT"
      },
      "outputs": [],
      "source": [
        "import pyspark\n",
        "from pyspark.sql import SparkSession\n",
        "from pyspark.sql import functions as F\n",
        "from pyspark.sql.functions import *"
      ]
    },
    {
      "cell_type": "code",
      "execution_count": null,
      "metadata": {
        "id": "pr--L9VfFKUR"
      },
      "outputs": [],
      "source": [
        "df = df \\\n",
        "    .withColumnRenamed('tpep_pickup_datetime', 'pickup_datetime') \\\n",
        "    .withColumnRenamed('tpep_dropoff_datetime', 'dropoff_datetime')\n",
        "\n",
        "df.registerTempTable('data_table')"
      ]
    },
    {
      "cell_type": "code",
      "execution_count": null,
      "metadata": {
        "colab": {
          "base_uri": "https://localhost:8080/"
        },
        "id": "L2hNlWvZ7WR1",
        "outputId": "549f8468-7272-47d2-bfd0-5b492030b1a1"
      },
      "outputs": [
        {
          "name": "stdout",
          "output_type": "stream",
          "text": [
            "+--------------------+\n",
            "|total_taxi_trip_0215|\n",
            "+--------------------+\n",
            "|               40322|\n",
            "+--------------------+\n",
            "\n"
          ]
        }
      ],
      "source": [
        "total_taxi_trip_0215 = spark.sql(\"\"\" \n",
        "\n",
        "    SELECT COUNT(pickup_datetime) AS total_taxi_trip_0215\n",
        "    FROM data_table\n",
        "    WHERE pickup_datetime >= '2021-02-15 00:00:00' AND pickup_datetime < '2021-02-16 00:00:00'\n",
        "\n",
        "\"\"\")\n",
        "\n",
        "total_taxi_trip_0215.show()"
      ]
    },
    {
      "cell_type": "markdown",
      "metadata": {
        "id": "wCvmXWe604GH"
      },
      "source": [
        "#### Find the longest trip for each day."
      ]
    },
    {
      "cell_type": "code",
      "execution_count": null,
      "metadata": {
        "id": "0YiAx7VCKbtL"
      },
      "outputs": [],
      "source": [
        "df.createOrReplaceTempView('data_view')"
      ]
    },
    {
      "cell_type": "code",
      "execution_count": null,
      "metadata": {
        "colab": {
          "base_uri": "https://localhost:8080/"
        },
        "id": "ugikekqT0NjX",
        "outputId": "d4dbd045-9af6-419b-e6f4-f6237fabdb7a"
      },
      "outputs": [
        {
          "name": "stdout",
          "output_type": "stream",
          "text": [
            "+---------------+------------+\n",
            "|pickup_datetime|longest_trip|\n",
            "+---------------+------------+\n",
            "|     2021-02-16|   221188.25|\n",
            "|     2021-02-20|   188054.03|\n",
            "|     2021-02-08|   186617.92|\n",
            "|     2021-02-07|   186510.67|\n",
            "|     2021-02-03|   186079.73|\n",
            "|     2021-02-17|   140145.44|\n",
            "|     2021-02-13|   115928.92|\n",
            "|     2021-02-05|    91134.16|\n",
            "|     2021-02-26|    90796.21|\n",
            "|     2021-02-24|    90073.44|\n",
            "+---------------+------------+\n",
            "only showing top 10 rows\n",
            "\n"
          ]
        }
      ],
      "source": [
        "longesttrip_eachday = df.withColumn(\"pickup_datetime\" , to_date(df['pickup_datetime']))\\\n",
        "                      .select(['pickup_datetime','trip_distance'])\\\n",
        "                      .where(\"pickup_datetime >= '2021-02-01' \")\\\n",
        "                      .groupby(F.col('pickup_datetime')).agg(F.max('trip_distance').alias('longest_trip')).sort(desc(\"longest_trip\"))\n",
        "longesttrip_eachday.show(10)"
      ]
    },
    {
      "cell_type": "markdown",
      "metadata": {
        "id": "jPZyFzW71Aqj"
      },
      "source": [
        "#### Find top 5 most frequent 'dispatching_base_num'."
      ]
    },
    {
      "cell_type": "code",
      "execution_count": null,
      "metadata": {
        "colab": {
          "base_uri": "https://localhost:8080/"
        },
        "id": "kzvxfl9ZNgZb",
        "outputId": "81379ae2-8aee-4183-b5ad-3112226376be"
      },
      "outputs": [
        {
          "name": "stdout",
          "output_type": "stream",
          "text": [
            "root\n",
            " |-- dispatching_base_num: string (nullable = true)\n",
            " |-- pickup_datetime: timestamp (nullable = true)\n",
            " |-- dropOff_datetime: timestamp (nullable = true)\n",
            " |-- PUlocationID: double (nullable = true)\n",
            " |-- DOlocationID: double (nullable = true)\n",
            " |-- SR_Flag: integer (nullable = true)\n",
            " |-- Affiliated_base_number: string (nullable = true)\n",
            "\n"
          ]
        }
      ],
      "source": [
        "df_fhv = spark.read.parquet(\"/content/drive/MyDrive/DE#8/PC6/fhv_tripdata_2021-02.parquet\", header=True, inferSchema=True)\n",
        "df_fhv.printSchema()"
      ]
    },
    {
      "cell_type": "code",
      "execution_count": null,
      "metadata": {
        "colab": {
          "base_uri": "https://localhost:8080/"
        },
        "id": "1PhcKxOhPAq5",
        "outputId": "119df5df-eeeb-4641-c5a5-ef86f5e20742"
      },
      "outputs": [
        {
          "name": "stdout",
          "output_type": "stream",
          "text": [
            "Dimensions of Data: (1037692, 7)\n",
            "Rows of Data: 1037692\n",
            "Columns of Data: 7\n"
          ]
        }
      ],
      "source": [
        "rows = df_fhv.count()\n",
        "cols = len(df_fhv.columns)\n",
        "\n",
        "print(f'Dimensions of Data: {(rows,cols)}')\n",
        "print(f'Rows of Data: {rows}')\n",
        "print(f'Columns of Data: {cols}')"
      ]
    },
    {
      "cell_type": "code",
      "execution_count": null,
      "metadata": {
        "colab": {
          "base_uri": "https://localhost:8080/"
        },
        "id": "Cig_M-oXPHAd",
        "outputId": "016aa501-f871-49f5-9cc2-a27dcf8304c2"
      },
      "outputs": [
        {
          "name": "stdout",
          "output_type": "stream",
          "text": [
            "+--------------------+-------------------+-------------------+------------+------------+-------+----------------------+\n",
            "|dispatching_base_num|    pickup_datetime|   dropOff_datetime|PUlocationID|DOlocationID|SR_Flag|Affiliated_base_number|\n",
            "+--------------------+-------------------+-------------------+------------+------------+-------+----------------------+\n",
            "|              B00013|2021-02-01 00:01:00|2021-02-01 01:33:00|        null|        null|   null|                B00014|\n",
            "|     B00021         |2021-02-01 00:55:40|2021-02-01 01:06:20|       173.0|        82.0|   null|       B00021         |\n",
            "|     B00021         |2021-02-01 00:14:03|2021-02-01 00:28:37|       173.0|        56.0|   null|       B00021         |\n",
            "|     B00021         |2021-02-01 00:27:48|2021-02-01 00:35:45|        82.0|       129.0|   null|       B00021         |\n",
            "|              B00037|2021-02-01 00:12:50|2021-02-01 00:26:38|        null|       225.0|   null|                B00037|\n",
            "+--------------------+-------------------+-------------------+------------+------------+-------+----------------------+\n",
            "only showing top 5 rows\n",
            "\n"
          ]
        }
      ],
      "source": [
        "df_fhv.show(5)"
      ]
    },
    {
      "cell_type": "code",
      "execution_count": null,
      "metadata": {
        "colab": {
          "base_uri": "https://localhost:8080/"
        },
        "id": "6NXwl6Fg1F7L",
        "outputId": "97f98047-7f0a-49c8-814f-4a993beda19f"
      },
      "outputs": [
        {
          "name": "stdout",
          "output_type": "stream",
          "text": [
            "+--------------------+-----+\n",
            "|dispatching_base_num|count|\n",
            "+--------------------+-----+\n",
            "|              B00856|35077|\n",
            "|              B01312|33089|\n",
            "|              B01145|31114|\n",
            "|              B02794|30397|\n",
            "|              B03016|29794|\n",
            "+--------------------+-----+\n",
            "only showing top 5 rows\n",
            "\n"
          ]
        }
      ],
      "source": [
        "top5_frequent_dbm = df_fhv.groupBy(\"dispatching_base_num\").count() \\\n",
        "                    .orderBy(F.col('count').desc())\n",
        "\n",
        "top5_frequent_dbm.show(5)"
      ]
    },
    {
      "cell_type": "markdown",
      "metadata": {
        "id": "MTgeGRyV1OEQ"
      },
      "source": [
        "#### Find top 5 most common location pairs (PULocationID and DOLocationID)."
      ]
    },
    {
      "cell_type": "code",
      "execution_count": null,
      "metadata": {
        "colab": {
          "base_uri": "https://localhost:8080/"
        },
        "id": "PtDnw0aQQyHV",
        "outputId": "6cd953e4-597e-465b-b401-08a99e6ee934"
      },
      "outputs": [
        {
          "name": "stdout",
          "output_type": "stream",
          "text": [
            "+------------+------------+-----+\n",
            "|PUlocationID|DOlocationID|count|\n",
            "+------------+------------+-----+\n",
            "|         237|         236|11455|\n",
            "|         236|         237| 9901|\n",
            "|         236|         236| 8819|\n",
            "|         237|         237| 7324|\n",
            "|         264|         264| 5732|\n",
            "+------------+------------+-----+\n",
            "only showing top 5 rows\n",
            "\n"
          ]
        }
      ],
      "source": [
        "top5_location_pairs = df.where(\"PUlocationID IS NOT NULL AND DOlocationID IS NOT NULL\") \\\n",
        "                      .groupBy([\"PUlocationID\",'DOlocationID']) \\\n",
        "                      .count() \\\n",
        "                      .orderBy(F.col('count').desc())\n",
        "top5_location_pairs.show(5)"
      ]
    },
    {
      "cell_type": "code",
      "execution_count": null,
      "metadata": {
        "colab": {
          "base_uri": "https://localhost:8080/"
        },
        "id": "SspRtFwg1VZ0",
        "outputId": "c8166004-fb85-49d3-d18c-102d060847bf"
      },
      "outputs": [
        {
          "name": "stdout",
          "output_type": "stream",
          "text": [
            "+------------+------------+-----+\n",
            "|PUlocationID|DOlocationID|count|\n",
            "+------------+------------+-----+\n",
            "|       206.0|       206.0| 2374|\n",
            "|       221.0|       206.0| 2112|\n",
            "|       129.0|       129.0| 1902|\n",
            "|         7.0|         7.0| 1829|\n",
            "|       179.0|       179.0| 1736|\n",
            "+------------+------------+-----+\n",
            "only showing top 5 rows\n",
            "\n"
          ]
        }
      ],
      "source": [
        "top5_location_pairs_fhv = df_fhv.where(\"PUlocationID IS NOT NULL AND DOlocationID IS NOT NULL\") \\\n",
        "                          .groupBy([\"PUlocationID\",'DOlocationID']) \\\n",
        "                          .count() \\\n",
        "                          .orderBy(F.col('count').desc())\n",
        "top5_location_pairs_fhv.show(5)"
      ]
    },
    {
      "cell_type": "markdown",
      "metadata": {
        "id": "KQBdb59i1WJ1"
      },
      "source": [
        "#### Write all of the result to BigQuery table."
      ]
    },
    {
      "cell_type": "code",
      "execution_count": null,
      "metadata": {
        "id": "koPez_HV1aqg"
      },
      "outputs": [],
      "source": [
        "gcs_bucket = 'fellowship_9_staging'\n",
        "bq_dataset = 'taxi_trip_spark'\n",
        "bq_table = 'taxi_trip_02_2021'\n",
        "\n",
        "df_wiki_en_totals.write \\\n",
        "  .format(\"bigquery\") \\\n",
        "  .option(\"table\",\"{}.{}\".format(bq_dataset, bq_table)) \\\n",
        "  .option(\"temporaryGcsBucket\", gcs_bucket) \\\n",
        "  .mode('overwrite') \\\n",
        "  .save()"
      ]
    }
  ],
  "metadata": {
    "colab": {
      "collapsed_sections": [
        "63sBIw570wa0",
        "wCvmXWe604GH",
        "jPZyFzW71Aqj",
        "MTgeGRyV1OEQ",
        "KQBdb59i1WJ1"
      ],
      "provenance": []
    },
    "kernelspec": {
      "display_name": "Python 3",
      "name": "python3"
    },
    "language_info": {
      "name": "python"
    }
  },
  "nbformat": 4,
  "nbformat_minor": 0
}
