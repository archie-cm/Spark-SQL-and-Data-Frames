{
 "cells": [
  {
   "cell_type": "markdown",
   "metadata": {
    "id": "duMRT5nX0USK"
   },
   "source": [
    "#Assignment: Spark SQL and Data Frames\n",
    "\n",
    "Dataset: https://www1.nyc.gov/site/tlc/about/tlc-trip-record-data.page (February 2021)\n",
    "\n",
    "Tech Stack:\n",
    "\n",
    "1.   PySpark\n",
    "2.   Google BigQuery\n",
    "\n"
   ]
  },
  {
   "cell_type": "code",
   "execution_count": 1,
   "metadata": {
    "colab": {
     "base_uri": "https://localhost:8080/",
     "height": 35
    },
    "id": "aJeywlyoKrbo",
    "outputId": "1125939f-dcdb-4a4d-c0f7-be9cb43b3b86"
   },
   "outputs": [
    {
     "data": {
      "text/plain": [
       "'/opt/spark'"
      ]
     },
     "execution_count": 1,
     "metadata": {},
     "output_type": "execute_result"
    }
   ],
   "source": [
    "import findspark\n",
    "findspark.init()\n",
    "findspark.find()"
   ]
  },
  {
   "cell_type": "code",
   "execution_count": 2,
   "metadata": {
    "id": "nAGZfrjcM3IC"
   },
   "outputs": [
    {
     "name": "stderr",
     "output_type": "stream",
     "text": [
      "WARNING: An illegal reflective access operation has occurred\n",
      "WARNING: Illegal reflective access by org.apache.spark.unsafe.Platform (file:/opt/spark/jars/spark-unsafe_2.12-3.0.3.jar) to constructor java.nio.DirectByteBuffer(long,int)\n",
      "WARNING: Please consider reporting this to the maintainers of org.apache.spark.unsafe.Platform\n",
      "WARNING: Use --illegal-access=warn to enable warnings of further illegal reflective access operations\n",
      "WARNING: All illegal access operations will be denied in a future release\n",
      "23/03/18 10:47:47 WARN NativeCodeLoader: Unable to load native-hadoop library for your platform... using builtin-java classes where applicable\n",
      "Using Spark's default log4j profile: org/apache/spark/log4j-defaults.properties\n",
      "Setting default log level to \"WARN\".\n",
      "To adjust logging level use sc.setLogLevel(newLevel). For SparkR, use setLogLevel(newLevel).\n"
     ]
    }
   ],
   "source": [
    "from pyspark.sql import SparkSession\n",
    "spark = SparkSession.builder.master(\"local\").appName(\"archiecm\").config('spark.ui.port', '4050').getOrCreate()"
   ]
  },
  {
   "cell_type": "code",
   "execution_count": 3,
   "metadata": {
    "colab": {
     "base_uri": "https://localhost:8080/",
     "height": 219
    },
    "id": "IIVHzS1_K2cH",
    "outputId": "350ba362-32f7-4348-cae2-2ab64f17faa6"
   },
   "outputs": [
    {
     "data": {
      "text/html": [
       "\n",
       "            <div>\n",
       "                <p><b>SparkSession - in-memory</b></p>\n",
       "                \n",
       "        <div>\n",
       "            <p><b>SparkContext</b></p>\n",
       "\n",
       "            <p><a href=\"http://df9-instance.us-central1-a.c.data-fellowship-9-project.internal:4050\">Spark UI</a></p>\n",
       "\n",
       "            <dl>\n",
       "              <dt>Version</dt>\n",
       "                <dd><code>v3.0.3</code></dd>\n",
       "              <dt>Master</dt>\n",
       "                <dd><code>local</code></dd>\n",
       "              <dt>AppName</dt>\n",
       "                <dd><code>archiecm</code></dd>\n",
       "            </dl>\n",
       "        </div>\n",
       "        \n",
       "            </div>\n",
       "        "
      ],
      "text/plain": [
       "<pyspark.sql.session.SparkSession at 0x7f1fa9582ca0>"
      ]
     },
     "execution_count": 3,
     "metadata": {},
     "output_type": "execute_result"
    }
   ],
   "source": [
    "spark"
   ]
  },
  {
   "cell_type": "code",
   "execution_count": 4,
   "metadata": {
    "colab": {
     "base_uri": "https://localhost:8080/"
    },
    "id": "5AXe5v0tJjR1",
    "outputId": "d09a923b-a133-4073-976c-847f3c30d6bc"
   },
   "outputs": [
    {
     "name": "stdout",
     "output_type": "stream",
     "text": [
      "root\n",
      " |-- hvfhs_license_num: string (nullable = true)\n",
      " |-- dispatching_base_num: string (nullable = true)\n",
      " |-- originating_base_num: string (nullable = true)\n",
      " |-- request_datetime: timestamp (nullable = true)\n",
      " |-- on_scene_datetime: timestamp (nullable = true)\n",
      " |-- pickup_datetime: timestamp (nullable = true)\n",
      " |-- dropoff_datetime: timestamp (nullable = true)\n",
      " |-- PULocationID: long (nullable = true)\n",
      " |-- DOLocationID: long (nullable = true)\n",
      " |-- trip_miles: double (nullable = true)\n",
      " |-- trip_time: long (nullable = true)\n",
      " |-- base_passenger_fare: double (nullable = true)\n",
      " |-- tolls: double (nullable = true)\n",
      " |-- bcf: double (nullable = true)\n",
      " |-- sales_tax: double (nullable = true)\n",
      " |-- congestion_surcharge: double (nullable = true)\n",
      " |-- airport_fee: double (nullable = true)\n",
      " |-- tips: double (nullable = true)\n",
      " |-- driver_pay: double (nullable = true)\n",
      " |-- shared_request_flag: string (nullable = true)\n",
      " |-- shared_match_flag: string (nullable = true)\n",
      " |-- access_a_ride_flag: string (nullable = true)\n",
      " |-- wav_request_flag: string (nullable = true)\n",
      " |-- wav_match_flag: string (nullable = true)\n",
      "\n"
     ]
    }
   ],
   "source": [
    "df = spark.read.parquet(\"fhvhv_tripdata_2021-02.parquet\", header=True, inferSchema=True)\n",
    "df.printSchema()"
   ]
  },
  {
   "cell_type": "code",
   "execution_count": 5,
   "metadata": {
    "colab": {
     "base_uri": "https://localhost:8080/"
    },
    "id": "MPvrn-DJ8Bcr",
    "outputId": "fd16b54e-3ad6-44b3-f2e3-9900e39e3ddf"
   },
   "outputs": [
    {
     "name": "stdout",
     "output_type": "stream",
     "text": [
      "Dimensions of Data: (11613942, 24)\n",
      "Rows of Data: 11613942\n",
      "Columns of Data: 24\n"
     ]
    }
   ],
   "source": [
    "rows = df.count()\n",
    "cols = len(df.columns)\n",
    "\n",
    "print(f'Dimensions of Data: {(rows,cols)}')\n",
    "print(f'Rows of Data: {rows}')\n",
    "print(f'Columns of Data: {cols}')"
   ]
  },
  {
   "cell_type": "code",
   "execution_count": 6,
   "metadata": {
    "colab": {
     "base_uri": "https://localhost:8080/"
    },
    "id": "_AIkQIYX4gRh",
    "outputId": "aa89f52b-359d-4e21-d8f9-50b2227b984f"
   },
   "outputs": [
    {
     "name": "stdout",
     "output_type": "stream",
     "text": [
      "+-----------------+--------------------+--------------------+-------------------+-------------------+-------------------+-------------------+------------+------------+----------+---------+-------------------+-----+----+---------+--------------------+-----------+----+----------+-------------------+-----------------+------------------+----------------+--------------+\n",
      "|hvfhs_license_num|dispatching_base_num|originating_base_num|   request_datetime|  on_scene_datetime|    pickup_datetime|   dropoff_datetime|PULocationID|DOLocationID|trip_miles|trip_time|base_passenger_fare|tolls| bcf|sales_tax|congestion_surcharge|airport_fee|tips|driver_pay|shared_request_flag|shared_match_flag|access_a_ride_flag|wav_request_flag|wav_match_flag|\n",
      "+-----------------+--------------------+--------------------+-------------------+-------------------+-------------------+-------------------+------------+------------+----------+---------+-------------------+-----+----+---------+--------------------+-----------+----+----------+-------------------+-----------------+------------------+----------------+--------------+\n",
      "|           HV0003|              B02764|              B02764|2021-01-31 23:59:00|2021-02-01 00:10:19|2021-02-01 00:10:40|2021-02-01 00:21:09|          35|          39|      2.06|      629|              17.14|  0.0|0.51|     1.52|                 0.0|       null| 0.0|      9.79|                  N|                N|                  |               N|             N|\n",
      "|           HV0003|              B02764|              B02764|2021-02-01 00:13:35|2021-02-01 00:25:23|2021-02-01 00:27:23|2021-02-01 00:44:01|          39|          35|      3.15|      998|              32.11|  0.0|0.96|     2.85|                 0.0|       null| 0.0|     24.01|                  N|                N|                  |               N|             N|\n",
      "|           HV0005|              B02510|                null|2021-02-01 00:12:55|               null|2021-02-01 00:28:38|2021-02-01 00:38:27|          39|          91|     1.776|      589|              12.67|  0.0|0.38|     1.12|                 0.0|       null| 0.0|      6.91|                  N|                N|                 N|               N|             N|\n",
      "|           HV0005|              B02510|                null|2021-02-01 00:36:01|               null|2021-02-01 00:43:37|2021-02-01 01:23:20|          91|         228|    13.599|     2383|              37.82|  0.0|0.98|     2.91|                 0.0|       null| 7.0|     35.05|                  N|                N|                 N|               N|             N|\n",
      "|           HV0003|              B02872|              B02872|2021-01-31 23:57:50|2021-02-01 00:08:25|2021-02-01 00:08:42|2021-02-01 00:17:57|         126|         250|      2.62|      555|              15.56|  0.0|0.47|     1.38|                 0.0|       null| 0.0|      8.53|                  N|                N|                  |               N|             N|\n",
      "+-----------------+--------------------+--------------------+-------------------+-------------------+-------------------+-------------------+------------+------------+----------+---------+-------------------+-----+----+---------+--------------------+-----------+----+----------+-------------------+-----------------+------------------+----------------+--------------+\n",
      "only showing top 5 rows\n",
      "\n"
     ]
    }
   ],
   "source": [
    "df.show(5)"
   ]
  },
  {
   "cell_type": "markdown",
   "metadata": {
    "id": "63sBIw570wa0"
   },
   "source": [
    "#### How many Taxi Trips were there on February 15?"
   ]
  },
  {
   "cell_type": "code",
   "execution_count": 7,
   "metadata": {
    "id": "WyZYyuNE65RT"
   },
   "outputs": [],
   "source": [
    "import pyspark\n",
    "from pyspark.sql import SparkSession\n",
    "from pyspark.sql import functions as F\n",
    "from pyspark.sql.functions import *"
   ]
  },
  {
   "cell_type": "code",
   "execution_count": 8,
   "metadata": {
    "id": "pr--L9VfFKUR"
   },
   "outputs": [],
   "source": [
    "df = df \\\n",
    "    .withColumnRenamed('tpep_pickup_datetime', 'pickup_datetime') \\\n",
    "    .withColumnRenamed('tpep_dropoff_datetime', 'dropoff_datetime')\n",
    "\n",
    "df.registerTempTable('data_table')"
   ]
  },
  {
   "cell_type": "code",
   "execution_count": 9,
   "metadata": {
    "colab": {
     "base_uri": "https://localhost:8080/"
    },
    "id": "L2hNlWvZ7WR1",
    "outputId": "549f8468-7272-47d2-bfd0-5b492030b1a1"
   },
   "outputs": [
    {
     "name": "stdout",
     "output_type": "stream",
     "text": [
      "+--------------------+\n",
      "|total_taxi_trip_0215|\n",
      "+--------------------+\n",
      "|              367170|\n",
      "+--------------------+\n",
      "\n"
     ]
    },
    {
     "name": "stderr",
     "output_type": "stream",
     "text": [
      "\r",
      "[Stage 5:===================>                                       (1 + 1) / 3]\r",
      "\r",
      "                                                                                \r"
     ]
    }
   ],
   "source": [
    "total_taxi_trip_0215 = spark.sql(\"\"\" \n",
    "\n",
    "    SELECT COUNT(pickup_datetime) AS total_taxi_trip_0215\n",
    "    FROM data_table\n",
    "    WHERE pickup_datetime >= '2021-02-15 00:00:00' AND pickup_datetime < '2021-02-16 00:00:00'\n",
    "\n",
    "\"\"\")\n",
    "\n",
    "total_taxi_trip_0215.show()"
   ]
  },
  {
   "cell_type": "markdown",
   "metadata": {
    "id": "wCvmXWe604GH"
   },
   "source": [
    "#### Find the longest trip for each day."
   ]
  },
  {
   "cell_type": "code",
   "execution_count": 10,
   "metadata": {
    "id": "0YiAx7VCKbtL"
   },
   "outputs": [],
   "source": [
    "df.createOrReplaceTempView('data_view')"
   ]
  },
  {
   "cell_type": "code",
   "execution_count": 11,
   "metadata": {
    "colab": {
     "base_uri": "https://localhost:8080/"
    },
    "id": "ugikekqT0NjX",
    "outputId": "d4dbd045-9af6-419b-e6f4-f6237fabdb7a"
   },
   "outputs": [
    {
     "name": "stderr",
     "output_type": "stream",
     "text": [
      "[Stage 8:========================================>              (146 + 1) / 200]\r"
     ]
    },
    {
     "name": "stdout",
     "output_type": "stream",
     "text": [
      "+---------------+------------+\n",
      "|pickup_datetime|longest_trip|\n",
      "+---------------+------------+\n",
      "|     2021-02-18|      527.11|\n",
      "|     2021-02-10|       512.5|\n",
      "|     2021-02-09|      480.73|\n",
      "|     2021-02-27|      454.49|\n",
      "|     2021-02-22|      347.41|\n",
      "|     2021-02-20|      340.64|\n",
      "|     2021-02-19|      329.16|\n",
      "|     2021-02-17|      324.19|\n",
      "|     2021-02-16|     307.661|\n",
      "|     2021-02-24|      301.73|\n",
      "+---------------+------------+\n",
      "only showing top 10 rows\n",
      "\n"
     ]
    },
    {
     "name": "stderr",
     "output_type": "stream",
     "text": [
      "\r",
      "[Stage 8:======================================================>(199 + 1) / 200]\r",
      "\r",
      "                                                                                \r"
     ]
    }
   ],
   "source": [
    "longesttrip_eachday = df.withColumn(\"pickup_datetime\" , to_date(df['pickup_datetime']))\\\n",
    "                      .select(['pickup_datetime','trip_miles'])\\\n",
    "                      .where(\"pickup_datetime >= '2021-02-01' \")\\\n",
    "                      .groupby(F.col('pickup_datetime')).agg(F.max('trip_miles').alias('longest_trip')).sort(desc(\"longest_trip\"))\n",
    "longesttrip_eachday.show(10)"
   ]
  },
  {
   "cell_type": "markdown",
   "metadata": {
    "id": "jPZyFzW71Aqj"
   },
   "source": [
    "#### Find top 5 most frequent 'dispatching_base_num'."
   ]
  },
  {
   "cell_type": "code",
   "execution_count": 12,
   "metadata": {
    "colab": {
     "base_uri": "https://localhost:8080/"
    },
    "id": "6NXwl6Fg1F7L",
    "outputId": "97f98047-7f0a-49c8-814f-4a993beda19f"
   },
   "outputs": [
    {
     "name": "stderr",
     "output_type": "stream",
     "text": [
      "\r",
      "[Stage 9:===================>                                       (1 + 1) / 3]\r"
     ]
    },
    {
     "name": "stdout",
     "output_type": "stream",
     "text": [
      "+--------------------+-------+\n",
      "|dispatching_base_num|  count|\n",
      "+--------------------+-------+\n",
      "|              B02510|3233664|\n",
      "|              B02764| 965568|\n",
      "|              B02872| 882689|\n",
      "|              B02875| 685390|\n",
      "|              B02765| 559768|\n",
      "+--------------------+-------+\n",
      "only showing top 5 rows\n",
      "\n"
     ]
    },
    {
     "name": "stderr",
     "output_type": "stream",
     "text": [
      "\r",
      "[Stage 10:==========================================>           (157 + 1) / 200]\r",
      "\r",
      "                                                                                \r"
     ]
    }
   ],
   "source": [
    "top5_frequent_dbm = df.groupBy(\"dispatching_base_num\").count() \\\n",
    "                    .orderBy(F.col('count').desc())\n",
    "\n",
    "top5_frequent_dbm.show(5)"
   ]
  },
  {
   "cell_type": "markdown",
   "metadata": {
    "id": "MTgeGRyV1OEQ"
   },
   "source": [
    "#### Find top 5 most common location pairs (PULocationID and DOLocationID)."
   ]
  },
  {
   "cell_type": "code",
   "execution_count": 13,
   "metadata": {
    "colab": {
     "base_uri": "https://localhost:8080/"
    },
    "id": "PtDnw0aQQyHV",
    "outputId": "6cd953e4-597e-465b-b401-08a99e6ee934"
   },
   "outputs": [
    {
     "name": "stderr",
     "output_type": "stream",
     "text": [
      "\r",
      "[Stage 11:===================>                                      (1 + 1) / 3]\r"
     ]
    },
    {
     "name": "stdout",
     "output_type": "stream",
     "text": [
      "+------------+------------+-----+\n",
      "|PUlocationID|DOlocationID|count|\n",
      "+------------+------------+-----+\n",
      "|          76|          76|45041|\n",
      "|          26|          26|37329|\n",
      "|          39|          39|28026|\n",
      "|          61|          61|25976|\n",
      "|          14|          14|17934|\n",
      "+------------+------------+-----+\n",
      "only showing top 5 rows\n",
      "\n"
     ]
    },
    {
     "name": "stderr",
     "output_type": "stream",
     "text": [
      "\r",
      "[Stage 12:==================================================>   (187 + 1) / 200]\r",
      "\r",
      "                                                                                \r"
     ]
    }
   ],
   "source": [
    "top5_location_pairs = df.where(\"PUlocationID IS NOT NULL AND DOlocationID IS NOT NULL\") \\\n",
    "                      .groupBy([\"PUlocationID\",'DOlocationID']) \\\n",
    "                      .count() \\\n",
    "                      .orderBy(F.col('count').desc())\n",
    "top5_location_pairs.show(5)"
   ]
  },
  {
   "cell_type": "markdown",
   "metadata": {
    "id": "KQBdb59i1WJ1"
   },
   "source": [
    "#### Write all of the result to BigQuery table."
   ]
  },
  {
   "cell_type": "code",
   "execution_count": 14,
   "metadata": {},
   "outputs": [],
   "source": [
    "import os\n",
    "os.environ[\"GOOGLE_APPLICATION_CREDENTIALS\"] = \".google/credentials/google_credentials.json\""
   ]
  },
  {
   "cell_type": "code",
   "execution_count": 44,
   "metadata": {},
   "outputs": [],
   "source": [
    "# https://googleapis.dev/python/pandas-gbq/latest/writing.html\n",
    "import pandas_gbq\n",
    "import pandas as pd\n",
    "\n",
    "# TODO: Set project_id to your Google Cloud Platform project ID.\n",
    "project_id = \"data-fellowship-9-project\"\n",
    "\n",
    "# TODO: Set dataset_id to the full destination dataset ID.\n",
    "dataset_id = 'taxi_trip_spark'"
   ]
  },
  {
   "cell_type": "code",
   "execution_count": 45,
   "metadata": {},
   "outputs": [
    {
     "name": "stderr",
     "output_type": "stream",
     "text": [
      "                                                                                \r"
     ]
    }
   ],
   "source": [
    "df_total_taxi_trip_0215 = total_taxi_trip_0215.toPandas()\n",
    "df_longesttrip_eachday = longesttrip_eachday.toPandas()\n",
    "df_top5_frequent_dbm = top5_frequent_dbm.toPandas()\n",
    "df_top5_location_pairs = top5_location_pairs.toPandas()"
   ]
  },
  {
   "cell_type": "code",
   "execution_count": 48,
   "metadata": {},
   "outputs": [],
   "source": [
    "df_longesttrip_eachday['pickup_datetime'] = df_longesttrip_eachday['pickup_datetime'].astype(str)\n",
    "df_longesttrip_eachday['pickup_datetime'] = df_longesttrip_eachday['pickup_datetime'].apply(pd.to_datetime)"
   ]
  },
  {
   "cell_type": "code",
   "execution_count": 51,
   "metadata": {},
   "outputs": [
    {
     "name": "stderr",
     "output_type": "stream",
     "text": [
      "100%|██████████████| 1/1 [00:00<00:00, 19328.59it/s]\n",
      "100%|██████████████| 1/1 [00:00<00:00, 21399.51it/s]\n",
      "100%|██████████████| 1/1 [00:00<00:00, 12985.46it/s]\n",
      "100%|██████████████| 1/1 [00:00<00:00, 20262.34it/s]\n"
     ]
    }
   ],
   "source": [
    "def load_to_bq(df, table_name):\n",
    "    pandas_gbq.to_gbq(df, f'{dataset_id}.{table_name}', project_id=project_id)\n",
    "\n",
    "load_to_bq(df_total_taxi_trip_0215, 'taxi_trip_0215')\n",
    "load_to_bq(df_longesttrip_eachday, 'longesttrip_eachday')\n",
    "load_to_bq(df_top5_frequent_dbm, 'top5_frequent_dbm')\n",
    "load_to_bq(df_top5_location_pairs, 'top5_location_pairs')"
   ]
  },
  {
   "cell_type": "code",
   "execution_count": null,
   "metadata": {},
   "outputs": [],
   "source": []
  }
 ],
 "metadata": {
  "colab": {
   "collapsed_sections": [
    "63sBIw570wa0",
    "wCvmXWe604GH",
    "jPZyFzW71Aqj",
    "MTgeGRyV1OEQ",
    "KQBdb59i1WJ1"
   ],
   "provenance": []
  },
  "kernelspec": {
   "display_name": "Python 3 (ipykernel)",
   "language": "python",
   "name": "python3"
  },
  "language_info": {
   "codemirror_mode": {
    "name": "ipython",
    "version": 3
   },
   "file_extension": ".py",
   "mimetype": "text/x-python",
   "name": "python",
   "nbconvert_exporter": "python",
   "pygments_lexer": "ipython3",
   "version": "3.9.7"
  }
 },
 "nbformat": 4,
 "nbformat_minor": 1
}
